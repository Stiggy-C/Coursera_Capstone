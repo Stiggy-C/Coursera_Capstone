{
    "cells": [
        {
            "cell_type": "markdown",
            "metadata": {
                "collapsed": true
            },
            "source": "# The Battle of Neighborhoods (Toronto [green] edition)"
        },
        {
            "cell_type": "markdown",
            "metadata": {},
            "source": "<h3>What will be discussed? And why?</h3>\n<div style=\"margin-top: 10px;\">&emsp;&emsp;&emsp;Nowadays, environmental related topics are getting popular everyday as we start to know more about and see more of the opportunity cost of economic (especially manufacturing) activities. These activities may cause poulltions which may harm the health of residents in the nieghborhoods. General public (especially new home buyers or new immigrants) may want to know which neighborhood is relatively greener to live for the welfare of their family. Therefore, it may be sinificant to generate an analytical report with KMeans Clustering to try to illustrate which neighborhoods may be greener than the others and which neighborhoods may not be too ideal for living.</div>"
        },
        {
            "cell_type": "markdown",
            "metadata": {},
            "source": "<h3>How to achieve such a report? Where the data will come from?</h3>\n<div style=\"margin-top: 10px;\">&emsp;&emsp;&emsp;In order to generate the mentioned report, one must first get the numbers of green areas (like park or country park) and the numbers of industrial areas of the neighborhoods in Toronto. Such information can be provided by numerous geolocation data providers. FourSquare is one of them. FourSquare provides a set of APIs's which can be used to get some interesting information of a place. Out of these API's, the <a href=\"https://developer.foursquare.com/docs/api-reference/venues/search/#venue-search\">Venue Search</a> API will be used. This API will return \"a list of venues near the current location, optionally matching a search term.\" With this API, one can look up venues/places in the neighborhoods. Furthermore, this API also provides a param, categoryId, which take \"a comma separated list of categories to limit results to\". All the categories currently supported by FourSquare can be found in this <a href=\"https://developer.foursquare.com/docs/build-with-foursquare/categories/\">page</a>. And according to this page, we can provide a comma delimited list of ids (of interested categories) to find the list. The categories which may be interested, </div>\n<div style=\"display: table; border: 1px solid #999999; margin-top: 10px;\">\n    <div style=\"display: table-row; border: 1px solid #999999;\">\n        <span style=\"display: table-cell; border: 1px solid #999999; font-weight: bold;\">Category</span>\n        <span style=\"display: table-cell; border: 1px solid #999999; font-weight: bold;\">ID</span>\n    </div>\n    <div style=\"display: table-row; border: 1px solid #999999;\">\n        <span style=\"display: table-cell; border: 1px solid #999999;\">Garden</span>\n        <span style=\"display: table-cell; border: 1px solid #999999;\">4bf58dd8d48988d15a941735</span>\n    </div>\n    <div style=\"display: table-row; border: 1px solid #999999;\">\n        <span style=\"display: table-cell; border: 1px solid #999999;\">National Park</span>\n        <span style=\"display: table-cell; border: 1px solid #999999;\">52e81612bcbc57f1066b7a21</span>\n    </div>\n    <div style=\"display: table-row; border: 1px solid #999999;\">\n        <span style=\"display: table-cell; border: 1px solid #999999;\">Nature Preserve</span>\n        <span style=\"display: table-cell; border: 1px solid #999999;\">52e81612bcbc57f1066b7a13</span>\n    </div>\n    <div style=\"display: table-row; border: 1px solid #999999;\">\n        <span style=\"display: table-cell; border: 1px solid #999999;\">Other Great Outdoors</span>\n        <span style=\"display: table-cell; border: 1px solid #999999;\">4bf58dd8d48988d162941735</span>\n    </div>\n    <div style=\"display: table-row; border: 1px solid #999999;\">\n        <span style=\"display: table-cell; border: 1px solid #999999;\">Park</span>\n        <span style=\"display: table-cell; border: 1px solid #999999;\">4bf58dd8d48988d163941735</span>\n    </div>\n    <div style=\"display: table-row; border: 1px solid #999999;\">\n        <span style=\"display: table-cell; border: 1px solid #999999;\">Industrial Estate</span>\n        <span style=\"display: table-cell; border: 1px solid #999999;\">56aa371be4b08b9a8d5734d7</span>\n    </div>\n    <div style=\"display: table-row; border: 1px solid #999999;\">\n        <span style=\"display: table-cell; border: 1px solid #999999;\">Power Plant</span>\n        <span style=\"display: table-cell; border: 1px solid #999999;\">58daa1548bbb0b01f18ec1a9</span>\n    </div>\n    <div style=\"display: table-row; border: 1px solid #999999;\">\n        <span style=\"display: table-cell; border: 1px solid #999999;\">Waste Facility</span>\n        <span style=\"display: table-cell; border: 1px solid #999999;\">58daa1558bbb0b01f18ec1ac</span>\n    </div>\n</div>    \n<div style=\"margin-top: 5px;\">\nWith this list of category IDs, the <a href=\"https://developer.foursquare.com/docs/api-reference/venues/search/#venue-search\">Venue Search</a> API can be used to find just the interested venues of the neighborhoods. Then, perform a count on each of the category for each of the neighborhoods in Toronto. Afterward, there should be enough to perform KMeans Clustering.</div>"
        },
        {
            "cell_type": "code",
            "execution_count": null,
            "metadata": {},
            "outputs": [],
            "source": ""
        }
    ],
    "metadata": {
        "kernelspec": {
            "display_name": "Python 3.6",
            "language": "python",
            "name": "python3"
        },
        "language_info": {
            "codemirror_mode": {
                "name": "ipython",
                "version": 3
            },
            "file_extension": ".py",
            "mimetype": "text/x-python",
            "name": "python",
            "nbconvert_exporter": "python",
            "pygments_lexer": "ipython3",
            "version": "3.6.9"
        }
    },
    "nbformat": 4,
    "nbformat_minor": 1
}