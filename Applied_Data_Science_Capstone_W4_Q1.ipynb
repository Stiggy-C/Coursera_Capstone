{
    "cells": [
        {
            "cell_type": "markdown",
            "metadata": {
                "collapsed": true
            },
            "source": "# The Battle of Neighborhoods (Toronto [green] edition)"
        },
        {
            "cell_type": "markdown",
            "metadata": {},
            "source": "<h3>What is going to be discussed? And why?</h3>\n<p>&emsp;&emsp;&emsp;Nowadays, environmental related topics are getting popular everyday as we start to know more about and see more of the opportunity cost of economic (especially manufacturing) activities. These activities may cause poulltions which may harm the health of residents in the nieghborhoods. General public (especially new home buyers or new immigrants) may want to know which neighborhood is relatively greener to live for the welfare of their family. Therefore, it may be sinificant to generate an analytical report with KMeans Clustering to try to illustrate which neighborhoods may be greener than the others and which neighborhoods may not be too ideal for living.</p>\n<p>&emsp;&emsp;&emsp;In order to generate the mentioned report, FourSquare API will be used to get the amount of park </p>"
        },
        {
            "cell_type": "code",
            "execution_count": null,
            "metadata": {},
            "outputs": [],
            "source": ""
        },
        {
            "cell_type": "code",
            "execution_count": null,
            "metadata": {},
            "outputs": [],
            "source": ""
        }
    ],
    "metadata": {
        "kernelspec": {
            "display_name": "Python 3.6",
            "language": "python",
            "name": "python3"
        },
        "language_info": {
            "codemirror_mode": {
                "name": "ipython",
                "version": 3
            },
            "file_extension": ".py",
            "mimetype": "text/x-python",
            "name": "python",
            "nbconvert_exporter": "python",
            "pygments_lexer": "ipython3",
            "version": "3.6.9"
        }
    },
    "nbformat": 4,
    "nbformat_minor": 1
}