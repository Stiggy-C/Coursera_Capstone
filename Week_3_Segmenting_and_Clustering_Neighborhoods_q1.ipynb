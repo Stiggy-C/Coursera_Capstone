{
    "cells": [
        {
            "cell_type": "code",
            "execution_count": 3,
            "metadata": {},
            "outputs": [
                {
                    "name": "stdout",
                    "output_type": "stream",
                    "text": "Solving environment: done\n\n## Package Plan ##\n\n  environment location: /opt/conda/envs/Python36\n\n  added / updated specs: \n    - beautifulsoup4\n\n\nThe following packages will be downloaded:\n\n    package                    |            build\n    ---------------------------|-----------------\n    openssl-1.1.1              |       h7b6447c_0         5.0 MB  anaconda\n    beautifulsoup4-4.8.2       |           py36_0         161 KB  anaconda\n    ca-certificates-2020.1.1   |                0         132 KB  anaconda\n    certifi-2020.4.5.1         |           py36_0         159 KB  anaconda\n    ------------------------------------------------------------\n                                           Total:         5.5 MB\n\nThe following packages will be UPDATED:\n\n    beautifulsoup4:  4.7.1-py36_1      --> 4.8.2-py36_0      anaconda\n    ca-certificates: 2020.1.1-0        --> 2020.1.1-0        anaconda\n    certifi:         2019.11.28-py36_0 --> 2020.4.5.1-py36_0 anaconda\n    openssl:         1.1.1e-h7b6447c_0 --> 1.1.1-h7b6447c_0  anaconda\n\n\nDownloading and Extracting Packages\nopenssl-1.1.1        | 5.0 MB    | ##################################### | 100% \nbeautifulsoup4-4.8.2 | 161 KB    | ##################################### | 100% \nca-certificates-2020 | 132 KB    | ##################################### | 100% \ncertifi-2020.4.5.1   | 159 KB    | ##################################### | 100% \nPreparing transaction: done\nVerifying transaction: done\nExecuting transaction: done\n"
                }
            ],
            "source": "# Install & import the necessary libraries/packages:\n!conda install -c anaconda beautifulsoup4 \n\nimport requests\nimport pandas\n\nfrom bs4 import BeautifulSoup as soup"
        },
        {
            "cell_type": "code",
            "execution_count": 4,
            "metadata": {},
            "outputs": [
                {
                    "name": "stdout",
                    "output_type": "stream",
                    "text": "Success\n"
                }
            ],
            "source": "# Get the content of the wiki page to be processed:\nresponse = requests.get(\"https://en.wikipedia.org/wiki/List_of_postal_codes_of_Canada:_M\")\nprint(\"Success\" if response.status_code == 200 else \"Unexpected status code returned\")"
        },
        {
            "cell_type": "code",
            "execution_count": 26,
            "metadata": {},
            "outputs": [
                {
                    "name": "stdout",
                    "output_type": "stream",
                    "text": "No duplicates\n"
                }
            ],
            "source": "# Prase the downloaded wiki page:\nsouped = soup(response.text, 'html.parser')\n# Retrieve just the desired section of the content of the wiki page:\npostal_codes_table = souped.find(\"table\", class_ = \"wikitable\")\n# Create the data frame:\npostal_codes_df = pandas.read_html(str(postal_codes_table))[0]\n# Remove those with Borough = \"Not assigned\"\npostal_codes_df = postal_codes_df[postal_codes_df.Borough != \"Not assigned\"]\n# Check for duplicate postal code\nduplicated = postal_codes_df.duplicated(subset = \"Postal code\")\nprint(\"No duplicates\" if len(duplicated[duplicated == True]) == 0 else \"Has duplicate(s)\");"
        },
        {
            "cell_type": "code",
            "execution_count": 37,
            "metadata": {},
            "outputs": [
                {
                    "name": "stdout",
                    "output_type": "stream",
                    "text": "No Neighnorhood Not assigned\n"
                }
            ],
            "source": "# Check for Neighnorhood = \"Not assigned\"\nprint(\"No Neighnorhood Not assigned\" if (len(postal_codes_df[postal_codes_df.Neighborhood == \"Not assigned\"]) == 0) else \"Has Neighnorhood Not assigned\")"
        },
        {
            "cell_type": "code",
            "execution_count": 41,
            "metadata": {},
            "outputs": [
                {
                    "data": {
                        "text/plain": "(103, 3)"
                    },
                    "execution_count": 41,
                    "metadata": {},
                    "output_type": "execute_result"
                }
            ],
            "source": "# Data cleaned:\npostal_codes_df.shape"
        }
    ],
    "metadata": {
        "kernelspec": {
            "display_name": "Python 3.6",
            "language": "python",
            "name": "python3"
        },
        "language_info": {
            "codemirror_mode": {
                "name": "ipython",
                "version": 3
            },
            "file_extension": ".py",
            "mimetype": "text/x-python",
            "name": "python",
            "nbconvert_exporter": "python",
            "pygments_lexer": "ipython3",
            "version": "3.6.9"
        }
    },
    "nbformat": 4,
    "nbformat_minor": 1
}